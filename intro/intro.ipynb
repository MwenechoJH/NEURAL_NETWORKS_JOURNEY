{
 "cells": [
  {
   "cell_type": "markdown",
   "id": "58ce4ce4",
   "metadata": {},
   "source": [
    "# NEURAL NETWORKS\n",
    "\n",
    "The first part of this code is me learning from an article by **Victor Zou**"
   ]
  },
  {
   "cell_type": "code",
   "execution_count": null,
   "id": "7a5e0c34",
   "metadata": {},
   "outputs": [],
   "source": [
    "import numpy as np"
   ]
  },
  {
   "cell_type": "markdown",
   "id": "5ab63307",
   "metadata": {},
   "source": [
    "In this example the activation function used is the sigmoid function"
   ]
  },
  {
   "cell_type": "code",
   "execution_count": null,
   "id": "4f68ba09",
   "metadata": {},
   "outputs": [],
   "source": [
    "def sigmoid(x):\n",
    "    return 1/(1+np.exp(-x))"
   ]
  },
  {
   "cell_type": "markdown",
   "id": "85aa8b5e",
   "metadata": {},
   "source": [
    "Below is the first node created"
   ]
  },
  {
   "cell_type": "code",
   "execution_count": null,
   "id": "1009fd3c",
   "metadata": {},
   "outputs": [],
   "source": [
    "class Neuron():\n",
    "    def __init__(self, weights, bias):\n",
    "        self.weights = weights\n",
    "        self.bias = bias\n",
    "\n",
    "    def feedforward(self, inputs):\n",
    "        total = np.dot(self.weights, inputs)+self.bias\n",
    "        return sigmoid(total)"
   ]
  },
  {
   "cell_type": "markdown",
   "id": "76e116f2",
   "metadata": {},
   "source": [
    "Then we create the first instance of this class"
   ]
  },
  {
   "cell_type": "code",
   "execution_count": null,
   "id": "8e84c1f5",
   "metadata": {},
   "outputs": [],
   "source": [
    "weights = np.array([0,1])\n",
    "inputs = np.array([2,3])\n",
    "bias = 4\n",
    "my_node = Neuron(weights,bias)\n",
    "print(my_node.feedforward(inputs))"
   ]
  },
  {
   "cell_type": "code",
   "execution_count": null,
   "id": "f4a5e6f3",
   "metadata": {},
   "outputs": [],
   "source": []
  }
 ],
 "metadata": {
  "kernelspec": {
   "display_name": ".venv",
   "language": "python",
   "name": "python3"
  },
  "language_info": {
   "codemirror_mode": {
    "name": "ipython",
    "version": 3
   },
   "file_extension": ".py",
   "mimetype": "text/x-python",
   "name": "python",
   "nbconvert_exporter": "python",
   "pygments_lexer": "ipython3",
   "version": "3.12.3"
  }
 },
 "nbformat": 4,
 "nbformat_minor": 5
}
