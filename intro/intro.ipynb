{
 "cells": [
  {
   "cell_type": "markdown",
   "id": "58ce4ce4",
   "metadata": {},
   "source": [
    "# NEURAL NETWORKS\n",
    "\n",
    "The first part of this code is me learning from an article by **Victor Zou**"
   ]
  },
  {
   "cell_type": "code",
   "execution_count": 1,
   "id": "7a5e0c34",
   "metadata": {},
   "outputs": [],
   "source": [
    "import numpy as np"
   ]
  },
  {
   "cell_type": "markdown",
   "id": "5ab63307",
   "metadata": {},
   "source": [
    "In this example the activation function used is the sigmoid function"
   ]
  },
  {
   "cell_type": "code",
   "execution_count": 2,
   "id": "4f68ba09",
   "metadata": {},
   "outputs": [],
   "source": [
    "def sigmoid(x):\n",
    "    return 1/(1+np.exp(-x))"
   ]
  },
  {
   "cell_type": "markdown",
   "id": "85aa8b5e",
   "metadata": {},
   "source": [
    "Below is the first node created"
   ]
  },
  {
   "cell_type": "code",
   "execution_count": 3,
   "id": "1009fd3c",
   "metadata": {},
   "outputs": [],
   "source": [
    "class Neuron():\n",
    "    def __init__(self, weights, bias):\n",
    "        self.weights = weights\n",
    "        self.bias = bias\n",
    "\n",
    "    def feedforward(self, inputs):\n",
    "        total = np.dot(self.weights, inputs)+self.bias\n",
    "        return sigmoid(total)"
   ]
  },
  {
   "cell_type": "markdown",
   "id": "76e116f2",
   "metadata": {},
   "source": [
    "Then we create the first instance of this class"
   ]
  },
  {
   "cell_type": "code",
   "execution_count": 4,
   "id": "8e84c1f5",
   "metadata": {},
   "outputs": [
    {
     "name": "stdout",
     "output_type": "stream",
     "text": [
      "0.9990889488055994\n"
     ]
    }
   ],
   "source": [
    "weights = np.array([0,1])\n",
    "inputs = np.array([2,3])\n",
    "bias = 4\n",
    "n = Neuron(weights,bias)\n",
    "print(n.feedforward(inputs))"
   ]
  },
  {
   "cell_type": "markdown",
   "id": "d36d911b",
   "metadata": {},
   "source": [
    "Below is an implementation of a basic neural network. with hidden layers `h1` and `h2` and the final output layer `o1`"
   ]
  },
  {
   "cell_type": "code",
   "execution_count": 13,
   "id": "f4a5e6f3",
   "metadata": {},
   "outputs": [],
   "source": [
    "class NeuralNetwork():\n",
    "    def __init__(self):\n",
    "        weights = np.array([0,1])\n",
    "        bias = 0\n",
    "\n",
    "        self.h1 = Neuron(weights, bias)\n",
    "        self.h2 = Neuron(weights, bias)\n",
    "        self.o1 = Neuron(weights, bias)\n",
    "    \n",
    "    def feedforward(self,x):\n",
    "        out_h1 = self.h1.feedforward(x)\n",
    "        out_h2 = self.h2.feedforward(x)\n",
    "\n",
    "        out_o1 = self.o1.feedforward(np.array([out_h1, out_h2]))\n",
    "\n",
    "        return out_o1"
   ]
  },
  {
   "cell_type": "code",
   "execution_count": 12,
   "id": "273a1352",
   "metadata": {},
   "outputs": [
    {
     "name": "stdout",
     "output_type": "stream",
     "text": [
      "0.7216325609518421\n"
     ]
    }
   ],
   "source": [
    "network = NeuralNetwork()\n",
    "\n",
    "x = np.array([2,3])\n",
    "\n",
    "print(network.feedforward(x))"
   ]
  },
  {
   "cell_type": "code",
   "execution_count": 15,
   "id": "6e0c2c0f",
   "metadata": {},
   "outputs": [
    {
     "name": "stdout",
     "output_type": "stream",
     "text": [
      "[2 4]\n",
      "[0 1]\n",
      "[2 4]\n"
     ]
    }
   ],
   "source": [
    "network.h1.weights = np.array([2,4])\n",
    "print(network.h1.weights)\n",
    "print(network.h2.weights)\n",
    "print(network.h1.weights)"
   ]
  },
  {
   "cell_type": "code",
   "execution_count": null,
   "id": "aae9bd60",
   "metadata": {},
   "outputs": [],
   "source": []
  }
 ],
 "metadata": {
  "kernelspec": {
   "display_name": ".venv",
   "language": "python",
   "name": "python3"
  },
  "language_info": {
   "codemirror_mode": {
    "name": "ipython",
    "version": 3
   },
   "file_extension": ".py",
   "mimetype": "text/x-python",
   "name": "python",
   "nbconvert_exporter": "python",
   "pygments_lexer": "ipython3",
   "version": "3.12.3"
  }
 },
 "nbformat": 4,
 "nbformat_minor": 5
}
