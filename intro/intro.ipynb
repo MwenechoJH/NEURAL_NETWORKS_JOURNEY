{
 "cells": [
  {
   "cell_type": "markdown",
   "id": "58ce4ce4",
   "metadata": {},
   "source": [
    "# NEURAL NETWORKS JOURNEY\n",
    "\n",
    "The first part of this code is me learning from an article by **Victor Zou**\n",
    "\n",
    "This can be found at https://victorzhou.com/blog/intro-to-neural-networks/"
   ]
  },
  {
   "cell_type": "markdown",
   "id": "5f11d03f",
   "metadata": {},
   "source": [
    "## NEURONS"
   ]
  },
  {
   "cell_type": "code",
   "execution_count": 1,
   "id": "7a5e0c34",
   "metadata": {},
   "outputs": [],
   "source": [
    "import numpy as np"
   ]
  },
  {
   "cell_type": "markdown",
   "id": "5ab63307",
   "metadata": {},
   "source": [
    "In this example the activation function used is the sigmoid function"
   ]
  },
  {
   "cell_type": "code",
   "execution_count": 2,
   "id": "4f68ba09",
   "metadata": {},
   "outputs": [],
   "source": [
    "def sigmoid(x):\n",
    "    return 1/(1+np.exp(-x))"
   ]
  },
  {
   "cell_type": "markdown",
   "id": "85aa8b5e",
   "metadata": {},
   "source": [
    "Below is the first node created"
   ]
  },
  {
   "cell_type": "code",
   "execution_count": 3,
   "id": "1009fd3c",
   "metadata": {},
   "outputs": [],
   "source": [
    "class Neuron():\n",
    "    def __init__(self, weights, bias):\n",
    "        self.weights = weights\n",
    "        self.bias = bias\n",
    "\n",
    "    def feedforward(self, inputs):\n",
    "        total = np.dot(self.weights, inputs)+self.bias\n",
    "        return sigmoid(total)"
   ]
  },
  {
   "cell_type": "markdown",
   "id": "76e116f2",
   "metadata": {},
   "source": [
    "Then we create the first instance of this class"
   ]
  },
  {
   "cell_type": "code",
   "execution_count": 4,
   "id": "8e84c1f5",
   "metadata": {},
   "outputs": [
    {
     "name": "stdout",
     "output_type": "stream",
     "text": [
      "0.9990889488055994\n"
     ]
    }
   ],
   "source": [
    "weights = np.array([0,1])\n",
    "inputs = np.array([2,3])\n",
    "bias = 4\n",
    "n = Neuron(weights,bias)\n",
    "print(n.feedforward(inputs))"
   ]
  },
  {
   "cell_type": "markdown",
   "id": "6a5d0bcd",
   "metadata": {},
   "source": [
    "## A NEURAL NETWORK"
   ]
  },
  {
   "cell_type": "markdown",
   "id": "d36d911b",
   "metadata": {},
   "source": [
    "Below is an implementation of a basic neural network. with hidden layers `h1` and `h2` and the final output layer `o1`"
   ]
  },
  {
   "cell_type": "code",
   "execution_count": 5,
   "id": "f4a5e6f3",
   "metadata": {},
   "outputs": [],
   "source": [
    "class NeuralNetwork():\n",
    "    def __init__(self):\n",
    "        weights = np.array([0,1])\n",
    "        bias = 0\n",
    "\n",
    "        self.h1 = Neuron(weights, bias)\n",
    "        self.h2 = Neuron(weights, bias)\n",
    "        self.o1 = Neuron(weights, bias)\n",
    "    \n",
    "    def feedforward(self,x):\n",
    "        out_h1 = self.h1.feedforward(x)\n",
    "        out_h2 = self.h2.feedforward(x)\n",
    "\n",
    "        out_o1 = self.o1.feedforward(np.array([out_h1, out_h2]))\n",
    "\n",
    "        return out_o1"
   ]
  },
  {
   "cell_type": "code",
   "execution_count": 6,
   "id": "273a1352",
   "metadata": {},
   "outputs": [
    {
     "name": "stdout",
     "output_type": "stream",
     "text": [
      "0.7216325609518421\n"
     ]
    }
   ],
   "source": [
    "network = NeuralNetwork()\n",
    "\n",
    "x = np.array([2,3])\n",
    "\n",
    "print(network.feedforward(x))"
   ]
  },
  {
   "cell_type": "code",
   "execution_count": 7,
   "id": "6e0c2c0f",
   "metadata": {},
   "outputs": [
    {
     "name": "stdout",
     "output_type": "stream",
     "text": [
      "[2 4]\n",
      "[0 1]\n",
      "[2 4]\n"
     ]
    }
   ],
   "source": [
    "network.h1.weights = np.array([2,4])\n",
    "print(network.h1.weights)\n",
    "print(network.h2.weights)\n",
    "print(network.h1.weights)"
   ]
  },
  {
   "cell_type": "markdown",
   "id": "aae9bd60",
   "metadata": {},
   "source": [
    "## TRAINING NEURAL NETWORKS"
   ]
  },
  {
   "cell_type": "markdown",
   "id": "4b168a94",
   "metadata": {},
   "source": [
    "### PART 1"
   ]
  },
  {
   "cell_type": "markdown",
   "id": "d022bb84",
   "metadata": {},
   "source": [
    "The next steps now is how to train a neural network\n",
    "\n",
    "One of the things I need the network to be able to know is how right it is. Hence this brought in the concept of **mean squared error** (MSE)loss, which so far I can say is just a function that finds the sum of the squares. I don't really know what else can be said about that.\n",
    "\n",
    "In the words of *Zhou*, is is a way for us to quantify how good our network is doing, so that it can try to do better. Hence we have introduced **Loss**.\n",
    "\n",
    "**Mean Squared Error(*MSE*) Loss:**\n",
    "$$\n",
    "\\frac{1}{n}\\sum_{i=1}^{n} (y_{true} -y_{pred})^2\n",
    "$$\n",
    "*n* = number of samples <br>\n",
    "*y* = variable being predicted <br>\n",
    "*$y_{true}$* = the true value for the variable <br>\n",
    "*$y_{pred}$* = the predicted value for the variable <br>\n",
    " \n",
    "Lower loss = Better predictions <br>\n",
    "**Training a network = minimizing its loss**\n"
   ]
  },
  {
   "cell_type": "code",
   "execution_count": null,
   "id": "8dc95e43",
   "metadata": {},
   "outputs": [
    {
     "name": "stdout",
     "output_type": "stream",
     "text": [
      "0.5\n"
     ]
    }
   ],
   "source": [
    "import numpy as np\n",
    "\n",
    "def mse_loss(y_true, y_pred):\n",
    "    return((y_true-y_pred)**2).mean()"
   ]
  },
  {
   "cell_type": "markdown",
   "id": "5c0f0473",
   "metadata": {},
   "source": [
    "here i learnt about the `.mean()` method. Which is used to calculate the average of values stored in in an array."
   ]
  },
  {
   "cell_type": "code",
   "execution_count": 35,
   "id": "ffc79824",
   "metadata": {},
   "outputs": [
    {
     "name": "stdout",
     "output_type": "stream",
     "text": [
      "0.5\n"
     ]
    }
   ],
   "source": [
    "# JUST TO TEST THE FUNCTION\n",
    "\n",
    "y_true = np.array([1,0,0,1])\n",
    "y_pred = np.array([0,0,0,0])\n",
    "\n",
    "print(mse_loss(y_true,y_pred))"
   ]
  },
  {
   "cell_type": "markdown",
   "id": "053cb62c",
   "metadata": {},
   "source": [
    "### PART 2"
   ]
  },
  {
   "cell_type": "markdown",
   "id": "f3a71665",
   "metadata": {},
   "source": [
    "This is where the whole things is starting to take shape <br>\n",
    "The thing about training a neural network is actually miniminzing the loss. How this is done is by adjust the weights and biases throughout the network. <span style=\"color:#00ff00;\">**Tweaking weights & biases**</span> so to say.\n",
    "\n",
    "First the effect of a weight/bias is determined by finding the <span style=\"color:#00ff00;\">**partial derivative**</span> of the loss in respect to that particular weight/bias."
   ]
  },
  {
   "cell_type": "code",
   "execution_count": null,
   "id": "02555ff7",
   "metadata": {},
   "outputs": [],
   "source": []
  }
 ],
 "metadata": {
  "kernelspec": {
   "display_name": ".venv",
   "language": "python",
   "name": "python3"
  },
  "language_info": {
   "codemirror_mode": {
    "name": "ipython",
    "version": 3
   },
   "file_extension": ".py",
   "mimetype": "text/x-python",
   "name": "python",
   "nbconvert_exporter": "python",
   "pygments_lexer": "ipython3",
   "version": "3.12.3"
  }
 },
 "nbformat": 4,
 "nbformat_minor": 5
}
